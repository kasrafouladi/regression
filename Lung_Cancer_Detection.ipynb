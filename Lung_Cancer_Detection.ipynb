{
  "cells": [
    {
      "cell_type": "markdown",
      "metadata": {
        "id": "r9lBKBhYtk7V"
      },
      "source": [
        "\n",
        "# 1. INTRODUCTION\n",
        "\n",
        "> ## 1.1 Problem Definition -\n",
        "Lung Cancer is found to be the second most common cancer in the world. Every year many people are diagnosed with lung cancer and most people die from lung cancer due to late diagnosis since it does not show much symptoms in the early stages. Statistics have shown that if lung cancer is found at an earlier stage, when it is small and before it has spread, it is more likely to be treated successfully. Thus, we have created a machine learning model using Logistic Regression that helps in early detection of lung cancer by increasing the chances of survival of patients suffering from it. \n",
        "\n",
        "> ## 1.2 Need -\n",
        "1. Increase in Lung Cancer Cases\n",
        "2. Early Diagnosis\n",
        "3. Decreases Mortality\n",
        "\n"
      ]
    },
    {
      "cell_type": "code",
      "execution_count": null,
      "metadata": {
        "id": "hhiGiPHYrghs"
      },
      "outputs": [],
      "source": [
        "#Importing Libraries\n",
        "import pandas as pd\n",
        "import numpy as np\n",
        "import matplotlib.pyplot as plt\n",
        "import seaborn as sns\n",
        "from sklearn.preprocessing import StandardScaler\n",
        "from sklearn.model_selection import train_test_split\n",
        "\n",
        "#For ignoring warnings\n",
        "import warnings\n",
        "warnings.filterwarnings(\"ignore\")"
      ]
    },
    {
      "cell_type": "markdown",
      "metadata": {
        "id": "jFtkote_JKt9"
      },
      "source": [
        "---"
      ]
    },
    {
      "cell_type": "markdown",
      "metadata": {
        "id": "5lA9HfGS1pnm"
      },
      "source": [
        "# 2. DATASET\n",
        "\n",
        "##2.1 Data Understanding\n",
        "Knowing everything about the dataset is extremely important to ensure the proper analysis of the machine learing model using the attributes of the data.\n",
        "\n",
        "- **Collected From :** [Kaggle - Lung Cancer Prediction](https://www.kaggle.com/datasets/thedevastator/cancer-patients-and-air-pollution-a-new-link)\n",
        "- **Size :** 33.9 kB\n",
        "- **Type :** csv file\n",
        "- **Columns :** 24\n",
        "- **Attributes :** 668\n",
        "- **Attributes Details :**  \n",
        "> 1. Age : (Numeric)\n",
        "> 2. Gender : M(male), F(female) \n",
        "> 3. Air Pollution : (Categorical)\n",
        "> 4. Alchohol use : (Categorical)\n",
        "> 5. Dust Allergy : (Categorical)\n",
        "> 6. Occupational Hazards : (Categorical)\n",
        "> 7. Genetic Risk : (Categorical)\n",
        "> 8. Chronic Lung Disease : (Categorical)\n",
        "> 9. Balanced Diet : (Categorical)\n",
        "> 10. Obesity : (Categorical)\n",
        "> 11. Smoking : (Categorical)\n",
        "> 12. Passive Smoker : (Categorical)\n",
        "> 13. Chest Pain : (Categorical)\n",
        "> 14. Coughing Blood : (Categorical)\n",
        "> 15. Fatigue : (Categorical)\n",
        "> 16. Weight loss : (Categorical)\n",
        "> 17. Shortness of Breath : (Categorical)\n",
        "> 18. Wheezing : (Categorical)\n",
        "> 19. Swallowing Difficulty : (Categorical)\n",
        "> 20. Clubbing of Finger Nails : (Categorical)\n",
        "> 21. Frequent Cold : (Categorical)\n",
        "> 22. Dry Cough : (Categorical)\n",
        "> 23. Snoring : (Categorical)\n",
        "> 24. Lung Cancer : Yes , No\n",
        "\n",
        "- **Independent Variables :** Age, Gender, Air Pollution, Alcohol use, Dust Allergy, Occupational Hazards, Genetic Risk, Chronic Lung Disease, Balanced Diet, Obesity, Smoking, Passive Smoker, Chest Pain, Coughing Blood, Fatigue, Weight Loss, Shortness of Breath, Wheezing, Swallowing Difficulty, Clubbing of Finger Nails, Frequent Cold, Dry Cough, Snoring\n",
        "- **Dependent Variable :** Lung Cancer (Yes, No)"
      ]
    },
    {
      "cell_type": "code",
      "execution_count": null,
      "metadata": {
        "colab": {
          "base_uri": "https://localhost:8080/",
          "height": 505
        },
        "id": "24vtd0YBkDAa",
        "outputId": "2f57b7df-d4d4-41a3-e48b-973aca274ef9"
      },
      "outputs": [
        {
          "data": {
            "text/html": [
              "<div>\n",
              "<style scoped>\n",
              "    .dataframe tbody tr th:only-of-type {\n",
              "        vertical-align: middle;\n",
              "    }\n",
              "\n",
              "    .dataframe tbody tr th {\n",
              "        vertical-align: top;\n",
              "    }\n",
              "\n",
              "    .dataframe thead th {\n",
              "        text-align: right;\n",
              "    }\n",
              "</style>\n",
              "<table border=\"1\" class=\"dataframe\">\n",
              "  <thead>\n",
              "    <tr style=\"text-align: right;\">\n",
              "      <th></th>\n",
              "      <th>Age</th>\n",
              "      <th>Gender</th>\n",
              "      <th>Air Pollution</th>\n",
              "      <th>Alcohol use</th>\n",
              "      <th>Dust Allergy</th>\n",
              "      <th>OccuPational Hazards</th>\n",
              "      <th>Genetic Risk</th>\n",
              "      <th>chronic Lung Disease</th>\n",
              "      <th>Balanced Diet</th>\n",
              "      <th>Obesity</th>\n",
              "      <th>...</th>\n",
              "      <th>Fatigue</th>\n",
              "      <th>Weight Loss</th>\n",
              "      <th>Shortness of Breath</th>\n",
              "      <th>Wheezing</th>\n",
              "      <th>Swallowing Difficulty</th>\n",
              "      <th>Clubbing of Finger Nails</th>\n",
              "      <th>Frequent Cold</th>\n",
              "      <th>Dry Cough</th>\n",
              "      <th>Snoring</th>\n",
              "      <th>Lung cancer</th>\n",
              "    </tr>\n",
              "  </thead>\n",
              "  <tbody>\n",
              "    <tr>\n",
              "      <th>0</th>\n",
              "      <td>33</td>\n",
              "      <td>M</td>\n",
              "      <td>2</td>\n",
              "      <td>4</td>\n",
              "      <td>5</td>\n",
              "      <td>4</td>\n",
              "      <td>3</td>\n",
              "      <td>2</td>\n",
              "      <td>2</td>\n",
              "      <td>4</td>\n",
              "      <td>...</td>\n",
              "      <td>3</td>\n",
              "      <td>4</td>\n",
              "      <td>2</td>\n",
              "      <td>2</td>\n",
              "      <td>3</td>\n",
              "      <td>1</td>\n",
              "      <td>2</td>\n",
              "      <td>3</td>\n",
              "      <td>4</td>\n",
              "      <td>No</td>\n",
              "    </tr>\n",
              "    <tr>\n",
              "      <th>1</th>\n",
              "      <td>35</td>\n",
              "      <td>M</td>\n",
              "      <td>4</td>\n",
              "      <td>5</td>\n",
              "      <td>6</td>\n",
              "      <td>5</td>\n",
              "      <td>5</td>\n",
              "      <td>4</td>\n",
              "      <td>6</td>\n",
              "      <td>7</td>\n",
              "      <td>...</td>\n",
              "      <td>8</td>\n",
              "      <td>7</td>\n",
              "      <td>9</td>\n",
              "      <td>2</td>\n",
              "      <td>1</td>\n",
              "      <td>4</td>\n",
              "      <td>6</td>\n",
              "      <td>7</td>\n",
              "      <td>2</td>\n",
              "      <td>Yes</td>\n",
              "    </tr>\n",
              "    <tr>\n",
              "      <th>2</th>\n",
              "      <td>37</td>\n",
              "      <td>M</td>\n",
              "      <td>7</td>\n",
              "      <td>7</td>\n",
              "      <td>7</td>\n",
              "      <td>7</td>\n",
              "      <td>6</td>\n",
              "      <td>7</td>\n",
              "      <td>7</td>\n",
              "      <td>7</td>\n",
              "      <td>...</td>\n",
              "      <td>4</td>\n",
              "      <td>2</td>\n",
              "      <td>3</td>\n",
              "      <td>1</td>\n",
              "      <td>4</td>\n",
              "      <td>5</td>\n",
              "      <td>6</td>\n",
              "      <td>7</td>\n",
              "      <td>5</td>\n",
              "      <td>Yes</td>\n",
              "    </tr>\n",
              "    <tr>\n",
              "      <th>3</th>\n",
              "      <td>46</td>\n",
              "      <td>M</td>\n",
              "      <td>6</td>\n",
              "      <td>8</td>\n",
              "      <td>7</td>\n",
              "      <td>7</td>\n",
              "      <td>7</td>\n",
              "      <td>6</td>\n",
              "      <td>7</td>\n",
              "      <td>7</td>\n",
              "      <td>...</td>\n",
              "      <td>3</td>\n",
              "      <td>2</td>\n",
              "      <td>4</td>\n",
              "      <td>1</td>\n",
              "      <td>4</td>\n",
              "      <td>2</td>\n",
              "      <td>4</td>\n",
              "      <td>2</td>\n",
              "      <td>3</td>\n",
              "      <td>Yes</td>\n",
              "    </tr>\n",
              "    <tr>\n",
              "      <th>4</th>\n",
              "      <td>35</td>\n",
              "      <td>M</td>\n",
              "      <td>4</td>\n",
              "      <td>5</td>\n",
              "      <td>6</td>\n",
              "      <td>5</td>\n",
              "      <td>5</td>\n",
              "      <td>4</td>\n",
              "      <td>6</td>\n",
              "      <td>7</td>\n",
              "      <td>...</td>\n",
              "      <td>8</td>\n",
              "      <td>7</td>\n",
              "      <td>9</td>\n",
              "      <td>2</td>\n",
              "      <td>1</td>\n",
              "      <td>4</td>\n",
              "      <td>6</td>\n",
              "      <td>7</td>\n",
              "      <td>2</td>\n",
              "      <td>Yes</td>\n",
              "    </tr>\n",
              "    <tr>\n",
              "      <th>...</th>\n",
              "      <td>...</td>\n",
              "      <td>...</td>\n",
              "      <td>...</td>\n",
              "      <td>...</td>\n",
              "      <td>...</td>\n",
              "      <td>...</td>\n",
              "      <td>...</td>\n",
              "      <td>...</td>\n",
              "      <td>...</td>\n",
              "      <td>...</td>\n",
              "      <td>...</td>\n",
              "      <td>...</td>\n",
              "      <td>...</td>\n",
              "      <td>...</td>\n",
              "      <td>...</td>\n",
              "      <td>...</td>\n",
              "      <td>...</td>\n",
              "      <td>...</td>\n",
              "      <td>...</td>\n",
              "      <td>...</td>\n",
              "      <td>...</td>\n",
              "    </tr>\n",
              "    <tr>\n",
              "      <th>663</th>\n",
              "      <td>44</td>\n",
              "      <td>M</td>\n",
              "      <td>6</td>\n",
              "      <td>7</td>\n",
              "      <td>7</td>\n",
              "      <td>7</td>\n",
              "      <td>7</td>\n",
              "      <td>6</td>\n",
              "      <td>7</td>\n",
              "      <td>7</td>\n",
              "      <td>...</td>\n",
              "      <td>5</td>\n",
              "      <td>3</td>\n",
              "      <td>2</td>\n",
              "      <td>7</td>\n",
              "      <td>8</td>\n",
              "      <td>2</td>\n",
              "      <td>4</td>\n",
              "      <td>5</td>\n",
              "      <td>3</td>\n",
              "      <td>Yes</td>\n",
              "    </tr>\n",
              "    <tr>\n",
              "      <th>664</th>\n",
              "      <td>37</td>\n",
              "      <td>F</td>\n",
              "      <td>6</td>\n",
              "      <td>8</td>\n",
              "      <td>7</td>\n",
              "      <td>7</td>\n",
              "      <td>7</td>\n",
              "      <td>6</td>\n",
              "      <td>7</td>\n",
              "      <td>7</td>\n",
              "      <td>...</td>\n",
              "      <td>9</td>\n",
              "      <td>6</td>\n",
              "      <td>5</td>\n",
              "      <td>7</td>\n",
              "      <td>2</td>\n",
              "      <td>4</td>\n",
              "      <td>3</td>\n",
              "      <td>1</td>\n",
              "      <td>4</td>\n",
              "      <td>Yes</td>\n",
              "    </tr>\n",
              "    <tr>\n",
              "      <th>665</th>\n",
              "      <td>25</td>\n",
              "      <td>F</td>\n",
              "      <td>4</td>\n",
              "      <td>5</td>\n",
              "      <td>6</td>\n",
              "      <td>5</td>\n",
              "      <td>5</td>\n",
              "      <td>4</td>\n",
              "      <td>6</td>\n",
              "      <td>7</td>\n",
              "      <td>...</td>\n",
              "      <td>8</td>\n",
              "      <td>7</td>\n",
              "      <td>9</td>\n",
              "      <td>2</td>\n",
              "      <td>1</td>\n",
              "      <td>4</td>\n",
              "      <td>6</td>\n",
              "      <td>7</td>\n",
              "      <td>2</td>\n",
              "      <td>Yes</td>\n",
              "    </tr>\n",
              "    <tr>\n",
              "      <th>666</th>\n",
              "      <td>18</td>\n",
              "      <td>F</td>\n",
              "      <td>6</td>\n",
              "      <td>8</td>\n",
              "      <td>7</td>\n",
              "      <td>7</td>\n",
              "      <td>7</td>\n",
              "      <td>6</td>\n",
              "      <td>7</td>\n",
              "      <td>7</td>\n",
              "      <td>...</td>\n",
              "      <td>3</td>\n",
              "      <td>2</td>\n",
              "      <td>4</td>\n",
              "      <td>1</td>\n",
              "      <td>4</td>\n",
              "      <td>2</td>\n",
              "      <td>4</td>\n",
              "      <td>2</td>\n",
              "      <td>3</td>\n",
              "      <td>Yes</td>\n",
              "    </tr>\n",
              "    <tr>\n",
              "      <th>667</th>\n",
              "      <td>47</td>\n",
              "      <td>M</td>\n",
              "      <td>6</td>\n",
              "      <td>5</td>\n",
              "      <td>6</td>\n",
              "      <td>5</td>\n",
              "      <td>5</td>\n",
              "      <td>4</td>\n",
              "      <td>6</td>\n",
              "      <td>7</td>\n",
              "      <td>...</td>\n",
              "      <td>8</td>\n",
              "      <td>7</td>\n",
              "      <td>9</td>\n",
              "      <td>2</td>\n",
              "      <td>1</td>\n",
              "      <td>4</td>\n",
              "      <td>6</td>\n",
              "      <td>7</td>\n",
              "      <td>2</td>\n",
              "      <td>Yes</td>\n",
              "    </tr>\n",
              "  </tbody>\n",
              "</table>\n",
              "<p>668 rows × 24 columns</p>\n",
              "</div>"
            ],
            "text/plain": [
              "     Age Gender  Air Pollution  Alcohol use  Dust Allergy  \\\n",
              "0     33      M              2            4             5   \n",
              "1     35      M              4            5             6   \n",
              "2     37      M              7            7             7   \n",
              "3     46      M              6            8             7   \n",
              "4     35      M              4            5             6   \n",
              "..   ...    ...            ...          ...           ...   \n",
              "663   44      M              6            7             7   \n",
              "664   37      F              6            8             7   \n",
              "665   25      F              4            5             6   \n",
              "666   18      F              6            8             7   \n",
              "667   47      M              6            5             6   \n",
              "\n",
              "     OccuPational Hazards  Genetic Risk  chronic Lung Disease  Balanced Diet  \\\n",
              "0                       4             3                     2              2   \n",
              "1                       5             5                     4              6   \n",
              "2                       7             6                     7              7   \n",
              "3                       7             7                     6              7   \n",
              "4                       5             5                     4              6   \n",
              "..                    ...           ...                   ...            ...   \n",
              "663                     7             7                     6              7   \n",
              "664                     7             7                     6              7   \n",
              "665                     5             5                     4              6   \n",
              "666                     7             7                     6              7   \n",
              "667                     5             5                     4              6   \n",
              "\n",
              "     Obesity  ...  Fatigue  Weight Loss  Shortness of Breath  Wheezing  \\\n",
              "0          4  ...        3            4                    2         2   \n",
              "1          7  ...        8            7                    9         2   \n",
              "2          7  ...        4            2                    3         1   \n",
              "3          7  ...        3            2                    4         1   \n",
              "4          7  ...        8            7                    9         2   \n",
              "..       ...  ...      ...          ...                  ...       ...   \n",
              "663        7  ...        5            3                    2         7   \n",
              "664        7  ...        9            6                    5         7   \n",
              "665        7  ...        8            7                    9         2   \n",
              "666        7  ...        3            2                    4         1   \n",
              "667        7  ...        8            7                    9         2   \n",
              "\n",
              "     Swallowing Difficulty  Clubbing of Finger Nails  Frequent Cold  \\\n",
              "0                        3                         1              2   \n",
              "1                        1                         4              6   \n",
              "2                        4                         5              6   \n",
              "3                        4                         2              4   \n",
              "4                        1                         4              6   \n",
              "..                     ...                       ...            ...   \n",
              "663                      8                         2              4   \n",
              "664                      2                         4              3   \n",
              "665                      1                         4              6   \n",
              "666                      4                         2              4   \n",
              "667                      1                         4              6   \n",
              "\n",
              "     Dry Cough  Snoring  Lung cancer  \n",
              "0            3        4           No  \n",
              "1            7        2          Yes  \n",
              "2            7        5          Yes  \n",
              "3            2        3          Yes  \n",
              "4            7        2          Yes  \n",
              "..         ...      ...          ...  \n",
              "663          5        3          Yes  \n",
              "664          1        4          Yes  \n",
              "665          7        2          Yes  \n",
              "666          2        3          Yes  \n",
              "667          7        2          Yes  \n",
              "\n",
              "[668 rows x 24 columns]"
            ]
          },
          "execution_count": 98,
          "metadata": {},
          "output_type": "execute_result"
        }
      ],
      "source": [
        "#Loading the Dataset\n",
        "df=pd.read_csv('cancer patient data sets.csv')\n",
        "df"
      ]
    },
    {
      "cell_type": "code",
      "execution_count": null,
      "metadata": {
        "colab": {
          "base_uri": "https://localhost:8080/",
          "height": 287
        },
        "id": "qTML56_OkRti",
        "outputId": "92924673-ada6-42b3-cd83-d192f9090c3a"
      },
      "outputs": [
        {
          "data": {
            "text/html": [
              "<div>\n",
              "<style scoped>\n",
              "    .dataframe tbody tr th:only-of-type {\n",
              "        vertical-align: middle;\n",
              "    }\n",
              "\n",
              "    .dataframe tbody tr th {\n",
              "        vertical-align: top;\n",
              "    }\n",
              "\n",
              "    .dataframe thead th {\n",
              "        text-align: right;\n",
              "    }\n",
              "</style>\n",
              "<table border=\"1\" class=\"dataframe\">\n",
              "  <thead>\n",
              "    <tr style=\"text-align: right;\">\n",
              "      <th></th>\n",
              "      <th>Age</th>\n",
              "      <th>Gender</th>\n",
              "      <th>Air Pollution</th>\n",
              "      <th>Alcohol use</th>\n",
              "      <th>Dust Allergy</th>\n",
              "      <th>OccuPational Hazards</th>\n",
              "      <th>Genetic Risk</th>\n",
              "      <th>chronic Lung Disease</th>\n",
              "      <th>Balanced Diet</th>\n",
              "      <th>Obesity</th>\n",
              "      <th>...</th>\n",
              "      <th>Fatigue</th>\n",
              "      <th>Weight Loss</th>\n",
              "      <th>Shortness of Breath</th>\n",
              "      <th>Wheezing</th>\n",
              "      <th>Swallowing Difficulty</th>\n",
              "      <th>Clubbing of Finger Nails</th>\n",
              "      <th>Frequent Cold</th>\n",
              "      <th>Dry Cough</th>\n",
              "      <th>Snoring</th>\n",
              "      <th>Lung cancer</th>\n",
              "    </tr>\n",
              "  </thead>\n",
              "  <tbody>\n",
              "    <tr>\n",
              "      <th>0</th>\n",
              "      <td>33</td>\n",
              "      <td>M</td>\n",
              "      <td>2</td>\n",
              "      <td>4</td>\n",
              "      <td>5</td>\n",
              "      <td>4</td>\n",
              "      <td>3</td>\n",
              "      <td>2</td>\n",
              "      <td>2</td>\n",
              "      <td>4</td>\n",
              "      <td>...</td>\n",
              "      <td>3</td>\n",
              "      <td>4</td>\n",
              "      <td>2</td>\n",
              "      <td>2</td>\n",
              "      <td>3</td>\n",
              "      <td>1</td>\n",
              "      <td>2</td>\n",
              "      <td>3</td>\n",
              "      <td>4</td>\n",
              "      <td>No</td>\n",
              "    </tr>\n",
              "    <tr>\n",
              "      <th>1</th>\n",
              "      <td>35</td>\n",
              "      <td>M</td>\n",
              "      <td>4</td>\n",
              "      <td>5</td>\n",
              "      <td>6</td>\n",
              "      <td>5</td>\n",
              "      <td>5</td>\n",
              "      <td>4</td>\n",
              "      <td>6</td>\n",
              "      <td>7</td>\n",
              "      <td>...</td>\n",
              "      <td>8</td>\n",
              "      <td>7</td>\n",
              "      <td>9</td>\n",
              "      <td>2</td>\n",
              "      <td>1</td>\n",
              "      <td>4</td>\n",
              "      <td>6</td>\n",
              "      <td>7</td>\n",
              "      <td>2</td>\n",
              "      <td>Yes</td>\n",
              "    </tr>\n",
              "    <tr>\n",
              "      <th>2</th>\n",
              "      <td>37</td>\n",
              "      <td>M</td>\n",
              "      <td>7</td>\n",
              "      <td>7</td>\n",
              "      <td>7</td>\n",
              "      <td>7</td>\n",
              "      <td>6</td>\n",
              "      <td>7</td>\n",
              "      <td>7</td>\n",
              "      <td>7</td>\n",
              "      <td>...</td>\n",
              "      <td>4</td>\n",
              "      <td>2</td>\n",
              "      <td>3</td>\n",
              "      <td>1</td>\n",
              "      <td>4</td>\n",
              "      <td>5</td>\n",
              "      <td>6</td>\n",
              "      <td>7</td>\n",
              "      <td>5</td>\n",
              "      <td>Yes</td>\n",
              "    </tr>\n",
              "    <tr>\n",
              "      <th>3</th>\n",
              "      <td>46</td>\n",
              "      <td>M</td>\n",
              "      <td>6</td>\n",
              "      <td>8</td>\n",
              "      <td>7</td>\n",
              "      <td>7</td>\n",
              "      <td>7</td>\n",
              "      <td>6</td>\n",
              "      <td>7</td>\n",
              "      <td>7</td>\n",
              "      <td>...</td>\n",
              "      <td>3</td>\n",
              "      <td>2</td>\n",
              "      <td>4</td>\n",
              "      <td>1</td>\n",
              "      <td>4</td>\n",
              "      <td>2</td>\n",
              "      <td>4</td>\n",
              "      <td>2</td>\n",
              "      <td>3</td>\n",
              "      <td>Yes</td>\n",
              "    </tr>\n",
              "    <tr>\n",
              "      <th>4</th>\n",
              "      <td>35</td>\n",
              "      <td>M</td>\n",
              "      <td>4</td>\n",
              "      <td>5</td>\n",
              "      <td>6</td>\n",
              "      <td>5</td>\n",
              "      <td>5</td>\n",
              "      <td>4</td>\n",
              "      <td>6</td>\n",
              "      <td>7</td>\n",
              "      <td>...</td>\n",
              "      <td>8</td>\n",
              "      <td>7</td>\n",
              "      <td>9</td>\n",
              "      <td>2</td>\n",
              "      <td>1</td>\n",
              "      <td>4</td>\n",
              "      <td>6</td>\n",
              "      <td>7</td>\n",
              "      <td>2</td>\n",
              "      <td>Yes</td>\n",
              "    </tr>\n",
              "  </tbody>\n",
              "</table>\n",
              "<p>5 rows × 24 columns</p>\n",
              "</div>"
            ],
            "text/plain": [
              "   Age Gender  Air Pollution  Alcohol use  Dust Allergy  OccuPational Hazards  \\\n",
              "0   33      M              2            4             5                     4   \n",
              "1   35      M              4            5             6                     5   \n",
              "2   37      M              7            7             7                     7   \n",
              "3   46      M              6            8             7                     7   \n",
              "4   35      M              4            5             6                     5   \n",
              "\n",
              "   Genetic Risk  chronic Lung Disease  Balanced Diet  Obesity  ...  Fatigue  \\\n",
              "0             3                     2              2        4  ...        3   \n",
              "1             5                     4              6        7  ...        8   \n",
              "2             6                     7              7        7  ...        4   \n",
              "3             7                     6              7        7  ...        3   \n",
              "4             5                     4              6        7  ...        8   \n",
              "\n",
              "   Weight Loss  Shortness of Breath  Wheezing  Swallowing Difficulty  \\\n",
              "0            4                    2         2                      3   \n",
              "1            7                    9         2                      1   \n",
              "2            2                    3         1                      4   \n",
              "3            2                    4         1                      4   \n",
              "4            7                    9         2                      1   \n",
              "\n",
              "   Clubbing of Finger Nails  Frequent Cold  Dry Cough  Snoring  Lung cancer  \n",
              "0                         1              2          3        4           No  \n",
              "1                         4              6          7        2          Yes  \n",
              "2                         5              6          7        5          Yes  \n",
              "3                         2              4          2        3          Yes  \n",
              "4                         4              6          7        2          Yes  \n",
              "\n",
              "[5 rows x 24 columns]"
            ]
          },
          "execution_count": 99,
          "metadata": {},
          "output_type": "execute_result"
        }
      ],
      "source": [
        "#Prints the first five rows\n",
        "df.head()"
      ]
    },
    {
      "cell_type": "code",
      "execution_count": null,
      "metadata": {
        "colab": {
          "base_uri": "https://localhost:8080/"
        },
        "id": "wrVfFHeN5RTy",
        "outputId": "cb4aedb7-f57c-4b12-801e-cd3b64a2c890"
      },
      "outputs": [
        {
          "name": "stdout",
          "output_type": "stream",
          "text": [
            "<class 'pandas.core.frame.DataFrame'>\n",
            "RangeIndex: 668 entries, 0 to 667\n",
            "Data columns (total 24 columns):\n",
            " #   Column                    Non-Null Count  Dtype \n",
            "---  ------                    --------------  ----- \n",
            " 0   Age                       668 non-null    int64 \n",
            " 1   Gender                    668 non-null    object\n",
            " 2   Air Pollution             668 non-null    int64 \n",
            " 3   Alcohol use               668 non-null    int64 \n",
            " 4   Dust Allergy              668 non-null    int64 \n",
            " 5   OccuPational Hazards      668 non-null    int64 \n",
            " 6   Genetic Risk              668 non-null    int64 \n",
            " 7   chronic Lung Disease      668 non-null    int64 \n",
            " 8   Balanced Diet             668 non-null    int64 \n",
            " 9   Obesity                   668 non-null    int64 \n",
            " 10  Smoking                   668 non-null    int64 \n",
            " 11  Passive Smoker            668 non-null    int64 \n",
            " 12  Chest Pain                668 non-null    int64 \n",
            " 13  Coughing Blood            668 non-null    int64 \n",
            " 14  Fatigue                   668 non-null    int64 \n",
            " 15  Weight Loss               668 non-null    int64 \n",
            " 16  Shortness of Breath       668 non-null    int64 \n",
            " 17  Wheezing                  668 non-null    int64 \n",
            " 18  Swallowing Difficulty     668 non-null    int64 \n",
            " 19  Clubbing of Finger Nails  668 non-null    int64 \n",
            " 20  Frequent Cold             668 non-null    int64 \n",
            " 21  Dry Cough                 668 non-null    int64 \n",
            " 22  Snoring                   668 non-null    int64 \n",
            " 23  Lung cancer               668 non-null    object\n",
            "dtypes: int64(22), object(2)\n",
            "memory usage: 125.4+ KB\n"
          ]
        }
      ],
      "source": [
        "#Summary of the dataset\n",
        "df.info()"
      ]
    },
    {
      "cell_type": "markdown",
      "metadata": {
        "id": "DI21NE_e63b4"
      },
      "source": [
        "## 2.2 Data Preprocessing\n",
        "\n",
        "Data Preprocessing is important to identify and correctly handle the missing values, failing to do this, you might draw inaccurate and faulty conclusions and inferences from the data. Hence, it ensures an increase in the accuracy and efficiency of a machine learning model. This was achieved by checking if the dataset has any missing values, if it contains duplicate values (and if yes then remove it), then checking if it has any null values or not. Lastly, we also check if there is uniformity in the data types of the attributes.\n"
      ]
    },
    {
      "cell_type": "code",
      "execution_count": null,
      "metadata": {
        "colab": {
          "base_uri": "https://localhost:8080/"
        },
        "id": "G8qekikXvDkj",
        "outputId": "c00f6502-54f1-4efc-d9fb-63b2868e9a0d"
      },
      "outputs": [
        {
          "data": {
            "text/plain": [
              "(668, 24)"
            ]
          },
          "execution_count": 101,
          "metadata": {},
          "output_type": "execute_result"
        }
      ],
      "source": [
        "#Size of the dataset\n",
        "df.shape"
      ]
    },
    {
      "cell_type": "code",
      "execution_count": null,
      "metadata": {
        "colab": {
          "base_uri": "https://localhost:8080/",
          "height": 552
        },
        "id": "LmETygtoyMh2",
        "outputId": "31383b46-7472-454e-80d1-31e29983c9d5"
      },
      "outputs": [
        {
          "data": {
            "text/plain": [
              "Text(0.5, 1.0, 'Total Missing Value ')"
            ]
          },
          "execution_count": 102,
          "metadata": {},
          "output_type": "execute_result"
        },
        {
          "data": {
            "image/png": "[encoded data removed]",
            "text/plain": [
              "<Figure size 1400x600 with 1 Axes>"
            ]
          },
          "metadata": {},
          "output_type": "display_data"
        }
      ],
      "source": [
        "#Checking for Missing Values\n",
        "percent = (df.isnull().sum()).sort_values(ascending=False)\n",
        "percent.plot(kind=\"bar\", figsize = (14,6), fontsize = 10, color='blue')\n",
        "plt.xlabel(\"Columns\", fontsize = 20)\n",
        "plt.ylabel(\"Missing Count\", fontsize = 20)\n",
        "plt.title(\"Total Missing Value \", fontsize = 20)"
      ]
    },
    {
      "cell_type": "code",
      "execution_count": null,
      "metadata": {
        "colab": {
          "base_uri": "https://localhost:8080/"
        },
        "id": "Me2WMvXa-FLc",
        "outputId": "739221c4-59c8-4fad-d728-015487ee27fd"
      },
      "outputs": [
        {
          "data": {
            "text/plain": [
              "np.int64(568)"
            ]
          },
          "execution_count": 103,
          "metadata": {},
          "output_type": "execute_result"
        }
      ],
      "source": [
        "#Checking for Duplicates\n",
        "df.duplicated().sum()"
      ]
    },
    {
      "cell_type": "code",
      "execution_count": null,
      "metadata": {
        "id": "mcW6K5lCtD-j"
      },
      "outputs": [],
      "source": [
        "#Removing Duplicates\n",
        "df=df.drop_duplicates()"
      ]
    },
    {
      "cell_type": "code",
      "execution_count": null,
      "metadata": {
        "colab": {
          "base_uri": "https://localhost:8080/"
        },
        "id": "kgYizSuXtKDY",
        "outputId": "12d31019-8895-454f-fb78-afa7bff6cf55"
      },
      "outputs": [
        {
          "data": {
            "text/plain": [
              "(100, 24)"
            ]
          },
          "execution_count": 105,
          "metadata": {},
          "output_type": "execute_result"
        }
      ],
      "source": [
        "#Dataset after removing duplicates\n",
        "df.shape"
      ]
    },
    {
      "cell_type": "code",
      "execution_count": null,
      "metadata": {
        "colab": {
          "base_uri": "https://localhost:8080/"
        },
        "id": "g4XgB-pbvnDp",
        "outputId": "48c5d490-22d4-40a5-e4dc-4a1c214ee469"
      },
      "outputs": [
        {
          "data": {
            "text/plain": [
              "Age                         0\n",
              "Gender                      0\n",
              "Air Pollution               0\n",
              "Alcohol use                 0\n",
              "Dust Allergy                0\n",
              "OccuPational Hazards        0\n",
              "Genetic Risk                0\n",
              "chronic Lung Disease        0\n",
              "Balanced Diet               0\n",
              "Obesity                     0\n",
              "Smoking                     0\n",
              "Passive Smoker              0\n",
              "Chest Pain                  0\n",
              "Coughing Blood              0\n",
              "Fatigue                     0\n",
              "Weight Loss                 0\n",
              "Shortness of Breath         0\n",
              "Wheezing                    0\n",
              "Swallowing Difficulty       0\n",
              "Clubbing of Finger Nails    0\n",
              "Frequent Cold               0\n",
              "Dry Cough                   0\n",
              "Snoring                     0\n",
              "Lung cancer                 0\n",
              "dtype: int64"
            ]
          },
          "execution_count": 106,
          "metadata": {},
          "output_type": "execute_result"
        }
      ],
      "source": [
        "#Checking for null values\n",
        "df.isnull().sum()"
      ]
    },
    {
      "cell_type": "code",
      "execution_count": null,
      "metadata": {
        "colab": {
          "base_uri": "https://localhost:8080/",
          "height": 382
        },
        "id": "hbK4tFDUip_J",
        "outputId": "e8dcc58d-14b0-404c-82c3-1f9b489446df"
      },
      "outputs": [
        {
          "data": {
            "text/html": [
              "<div>\n",
              "<style scoped>\n",
              "    .dataframe tbody tr th:only-of-type {\n",
              "        vertical-align: middle;\n",
              "    }\n",
              "\n",
              "    .dataframe tbody tr th {\n",
              "        vertical-align: top;\n",
              "    }\n",
              "\n",
              "    .dataframe thead th {\n",
              "        text-align: right;\n",
              "    }\n",
              "</style>\n",
              "<table border=\"1\" class=\"dataframe\">\n",
              "  <thead>\n",
              "    <tr style=\"text-align: right;\">\n",
              "      <th></th>\n",
              "      <th>Age</th>\n",
              "      <th>Air Pollution</th>\n",
              "      <th>Alcohol use</th>\n",
              "      <th>Dust Allergy</th>\n",
              "      <th>OccuPational Hazards</th>\n",
              "      <th>Genetic Risk</th>\n",
              "      <th>chronic Lung Disease</th>\n",
              "      <th>Balanced Diet</th>\n",
              "      <th>Obesity</th>\n",
              "      <th>Smoking</th>\n",
              "      <th>...</th>\n",
              "      <th>Coughing Blood</th>\n",
              "      <th>Fatigue</th>\n",
              "      <th>Weight Loss</th>\n",
              "      <th>Shortness of Breath</th>\n",
              "      <th>Wheezing</th>\n",
              "      <th>Swallowing Difficulty</th>\n",
              "      <th>Clubbing of Finger Nails</th>\n",
              "      <th>Frequent Cold</th>\n",
              "      <th>Dry Cough</th>\n",
              "      <th>Snoring</th>\n",
              "    </tr>\n",
              "  </thead>\n",
              "  <tbody>\n",
              "    <tr>\n",
              "      <th>count</th>\n",
              "      <td>100.000000</td>\n",
              "      <td>100.000000</td>\n",
              "      <td>100.00000</td>\n",
              "      <td>100.000000</td>\n",
              "      <td>100.000000</td>\n",
              "      <td>100.000000</td>\n",
              "      <td>100.0</td>\n",
              "      <td>100.000000</td>\n",
              "      <td>100.000000</td>\n",
              "      <td>100.000000</td>\n",
              "      <td>...</td>\n",
              "      <td>100.000000</td>\n",
              "      <td>100.000000</td>\n",
              "      <td>100.000000</td>\n",
              "      <td>100.000000</td>\n",
              "      <td>100.000000</td>\n",
              "      <td>100.000000</td>\n",
              "      <td>100.000000</td>\n",
              "      <td>100.000000</td>\n",
              "      <td>100.000000</td>\n",
              "      <td>100.000000</td>\n",
              "    </tr>\n",
              "    <tr>\n",
              "      <th>mean</th>\n",
              "      <td>38.270000</td>\n",
              "      <td>4.170000</td>\n",
              "      <td>4.62000</td>\n",
              "      <td>4.850000</td>\n",
              "      <td>4.720000</td>\n",
              "      <td>4.580000</td>\n",
              "      <td>4.4</td>\n",
              "      <td>4.850000</td>\n",
              "      <td>4.660000</td>\n",
              "      <td>4.730000</td>\n",
              "      <td>...</td>\n",
              "      <td>5.260000</td>\n",
              "      <td>3.940000</td>\n",
              "      <td>3.600000</td>\n",
              "      <td>4.110000</td>\n",
              "      <td>3.280000</td>\n",
              "      <td>3.540000</td>\n",
              "      <td>3.340000</td>\n",
              "      <td>3.360000</td>\n",
              "      <td>3.730000</td>\n",
              "      <td>2.660000</td>\n",
              "    </tr>\n",
              "    <tr>\n",
              "      <th>std</th>\n",
              "      <td>11.941655</td>\n",
              "      <td>1.901913</td>\n",
              "      <td>2.61997</td>\n",
              "      <td>2.244522</td>\n",
              "      <td>2.206876</td>\n",
              "      <td>2.202753</td>\n",
              "      <td>2.0</td>\n",
              "      <td>2.217356</td>\n",
              "      <td>2.370782</td>\n",
              "      <td>2.501939</td>\n",
              "      <td>...</td>\n",
              "      <td>2.751015</td>\n",
              "      <td>2.509859</td>\n",
              "      <td>2.211083</td>\n",
              "      <td>2.386388</td>\n",
              "      <td>2.141839</td>\n",
              "      <td>2.119748</td>\n",
              "      <td>1.832479</td>\n",
              "      <td>1.778207</td>\n",
              "      <td>2.145491</td>\n",
              "      <td>1.451018</td>\n",
              "    </tr>\n",
              "    <tr>\n",
              "      <th>min</th>\n",
              "      <td>17.000000</td>\n",
              "      <td>1.000000</td>\n",
              "      <td>1.00000</td>\n",
              "      <td>1.000000</td>\n",
              "      <td>1.000000</td>\n",
              "      <td>1.000000</td>\n",
              "      <td>1.0</td>\n",
              "      <td>1.000000</td>\n",
              "      <td>1.000000</td>\n",
              "      <td>1.000000</td>\n",
              "      <td>...</td>\n",
              "      <td>1.000000</td>\n",
              "      <td>1.000000</td>\n",
              "      <td>1.000000</td>\n",
              "      <td>1.000000</td>\n",
              "      <td>1.000000</td>\n",
              "      <td>1.000000</td>\n",
              "      <td>1.000000</td>\n",
              "      <td>1.000000</td>\n",
              "      <td>1.000000</td>\n",
              "      <td>1.000000</td>\n",
              "    </tr>\n",
              "    <tr>\n",
              "      <th>25%</th>\n",
              "      <td>28.000000</td>\n",
              "      <td>2.000000</td>\n",
              "      <td>2.00000</td>\n",
              "      <td>3.000000</td>\n",
              "      <td>3.000000</td>\n",
              "      <td>2.000000</td>\n",
              "      <td>3.0</td>\n",
              "      <td>3.000000</td>\n",
              "      <td>2.000000</td>\n",
              "      <td>2.000000</td>\n",
              "      <td>...</td>\n",
              "      <td>2.000000</td>\n",
              "      <td>2.000000</td>\n",
              "      <td>2.000000</td>\n",
              "      <td>2.000000</td>\n",
              "      <td>2.000000</td>\n",
              "      <td>2.000000</td>\n",
              "      <td>2.000000</td>\n",
              "      <td>2.000000</td>\n",
              "      <td>2.000000</td>\n",
              "      <td>2.000000</td>\n",
              "    </tr>\n",
              "    <tr>\n",
              "      <th>50%</th>\n",
              "      <td>37.000000</td>\n",
              "      <td>4.000000</td>\n",
              "      <td>5.00000</td>\n",
              "      <td>6.000000</td>\n",
              "      <td>5.000000</td>\n",
              "      <td>5.000000</td>\n",
              "      <td>5.0</td>\n",
              "      <td>6.000000</td>\n",
              "      <td>4.000000</td>\n",
              "      <td>5.000000</td>\n",
              "      <td>...</td>\n",
              "      <td>6.000000</td>\n",
              "      <td>3.000000</td>\n",
              "      <td>3.000000</td>\n",
              "      <td>4.000000</td>\n",
              "      <td>2.000000</td>\n",
              "      <td>3.000000</td>\n",
              "      <td>3.000000</td>\n",
              "      <td>3.000000</td>\n",
              "      <td>3.000000</td>\n",
              "      <td>2.000000</td>\n",
              "    </tr>\n",
              "    <tr>\n",
              "      <th>75%</th>\n",
              "      <td>46.000000</td>\n",
              "      <td>6.000000</td>\n",
              "      <td>7.00000</td>\n",
              "      <td>7.000000</td>\n",
              "      <td>7.000000</td>\n",
              "      <td>7.000000</td>\n",
              "      <td>6.0</td>\n",
              "      <td>7.000000</td>\n",
              "      <td>7.000000</td>\n",
              "      <td>7.000000</td>\n",
              "      <td>...</td>\n",
              "      <td>8.000000</td>\n",
              "      <td>5.000000</td>\n",
              "      <td>6.000000</td>\n",
              "      <td>5.000000</td>\n",
              "      <td>4.000000</td>\n",
              "      <td>5.000000</td>\n",
              "      <td>4.000000</td>\n",
              "      <td>4.000000</td>\n",
              "      <td>6.000000</td>\n",
              "      <td>3.000000</td>\n",
              "    </tr>\n",
              "    <tr>\n",
              "      <th>max</th>\n",
              "      <td>64.000000</td>\n",
              "      <td>8.000000</td>\n",
              "      <td>8.00000</td>\n",
              "      <td>8.000000</td>\n",
              "      <td>7.000000</td>\n",
              "      <td>7.000000</td>\n",
              "      <td>7.0</td>\n",
              "      <td>7.000000</td>\n",
              "      <td>7.000000</td>\n",
              "      <td>8.000000</td>\n",
              "      <td>...</td>\n",
              "      <td>9.000000</td>\n",
              "      <td>9.000000</td>\n",
              "      <td>8.000000</td>\n",
              "      <td>9.000000</td>\n",
              "      <td>7.000000</td>\n",
              "      <td>8.000000</td>\n",
              "      <td>9.000000</td>\n",
              "      <td>7.000000</td>\n",
              "      <td>7.000000</td>\n",
              "      <td>7.000000</td>\n",
              "    </tr>\n",
              "  </tbody>\n",
              "</table>\n",
              "<p>8 rows × 22 columns</p>\n",
              "</div>"
            ],
            "text/plain": [
              "              Age  Air Pollution  Alcohol use  Dust Allergy  \\\n",
              "count  100.000000     100.000000    100.00000    100.000000   \n",
              "mean    38.270000       4.170000      4.62000      4.850000   \n",
              "std     11.941655       1.901913      2.61997      2.244522   \n",
              "min     17.000000       1.000000      1.00000      1.000000   \n",
              "25%     28.000000       2.000000      2.00000      3.000000   \n",
              "50%     37.000000       4.000000      5.00000      6.000000   \n",
              "75%     46.000000       6.000000      7.00000      7.000000   \n",
              "max     64.000000       8.000000      8.00000      8.000000   \n",
              "\n",
              "       OccuPational Hazards  Genetic Risk  chronic Lung Disease  \\\n",
              "count            100.000000    100.000000                 100.0   \n",
              "mean               4.720000      4.580000                   4.4   \n",
              "std                2.206876      2.202753                   2.0   \n",
              "min                1.000000      1.000000                   1.0   \n",
              "25%                3.000000      2.000000                   3.0   \n",
              "50%                5.000000      5.000000                   5.0   \n",
              "75%                7.000000      7.000000                   6.0   \n",
              "max                7.000000      7.000000                   7.0   \n",
              "\n",
              "       Balanced Diet     Obesity     Smoking  ...  Coughing Blood     Fatigue  \\\n",
              "count     100.000000  100.000000  100.000000  ...      100.000000  100.000000   \n",
              "mean        4.850000    4.660000    4.730000  ...        5.260000    3.940000   \n",
              "std         2.217356    2.370782    2.501939  ...        2.751015    2.509859   \n",
              "min         1.000000    1.000000    1.000000  ...        1.000000    1.000000   \n",
              "25%         3.000000    2.000000    2.000000  ...        2.000000    2.000000   \n",
              "50%         6.000000    4.000000    5.000000  ...        6.000000    3.000000   \n",
              "75%         7.000000    7.000000    7.000000  ...        8.000000    5.000000   \n",
              "max         7.000000    7.000000    8.000000  ...        9.000000    9.000000   \n",
              "\n",
              "       Weight Loss  Shortness of Breath    Wheezing  Swallowing Difficulty  \\\n",
              "count   100.000000           100.000000  100.000000             100.000000   \n",
              "mean      3.600000             4.110000    3.280000               3.540000   \n",
              "std       2.211083             2.386388    2.141839               2.119748   \n",
              "min       1.000000             1.000000    1.000000               1.000000   \n",
              "25%       2.000000             2.000000    2.000000               2.000000   \n",
              "50%       3.000000             4.000000    2.000000               3.000000   \n",
              "75%       6.000000             5.000000    4.000000               5.000000   \n",
              "max       8.000000             9.000000    7.000000               8.000000   \n",
              "\n",
              "       Clubbing of Finger Nails  Frequent Cold   Dry Cough     Snoring  \n",
              "count                100.000000     100.000000  100.000000  100.000000  \n",
              "mean                   3.340000       3.360000    3.730000    2.660000  \n",
              "std                    1.832479       1.778207    2.145491    1.451018  \n",
              "min                    1.000000       1.000000    1.000000    1.000000  \n",
              "25%                    2.000000       2.000000    2.000000    2.000000  \n",
              "50%                    3.000000       3.000000    3.000000    2.000000  \n",
              "75%                    4.000000       4.000000    6.000000    3.000000  \n",
              "max                    9.000000       7.000000    7.000000    7.000000  \n",
              "\n",
              "[8 rows x 22 columns]"
            ]
          },
          "execution_count": 107,
          "metadata": {},
          "output_type": "execute_result"
        }
      ],
      "source": [
        "#Description of the dataset (only provides info for numerical columns)\n",
        "df.describe()"
      ]
    },
    {
      "cell_type": "code",
      "execution_count": null,
      "metadata": {
        "colab": {
          "base_uri": "https://localhost:8080/"
        },
        "id": "Jah2RqSs-sse",
        "outputId": "9389c8c8-170a-48f9-f99a-b6888ad6fc0d"
      },
      "outputs": [
        {
          "data": {
            "text/plain": [
              "Age                          int64\n",
              "Gender                      object\n",
              "Air Pollution                int64\n",
              "Alcohol use                  int64\n",
              "Dust Allergy                 int64\n",
              "OccuPational Hazards         int64\n",
              "Genetic Risk                 int64\n",
              "chronic Lung Disease         int64\n",
              "Balanced Diet                int64\n",
              "Obesity                      int64\n",
              "Smoking                      int64\n",
              "Passive Smoker               int64\n",
              "Chest Pain                   int64\n",
              "Coughing Blood               int64\n",
              "Fatigue                      int64\n",
              "Weight Loss                  int64\n",
              "Shortness of Breath          int64\n",
              "Wheezing                     int64\n",
              "Swallowing Difficulty        int64\n",
              "Clubbing of Finger Nails     int64\n",
              "Frequent Cold                int64\n",
              "Dry Cough                    int64\n",
              "Snoring                      int64\n",
              "Lung cancer                 object\n",
              "dtype: object"
            ]
          },
          "execution_count": 108,
          "metadata": {},
          "output_type": "execute_result"
        }
      ],
      "source": [
        "#Checking the datatype to normalize the labels\n",
        "df.dtypes"
      ]
    },
    {
      "cell_type": "code",
      "execution_count": null,
      "metadata": {
        "colab": {
          "base_uri": "https://localhost:8080/"
        },
        "id": "dEVQmbDq82gA",
        "outputId": "e4588cd1-ae4f-4276-e538-be5fe026ebdb"
      },
      "outputs": [
        {
          "data": {
            "text/plain": [
              "array(['No', 'Yes'], dtype=object)"
            ]
          },
          "execution_count": 109,
          "metadata": {},
          "output_type": "execute_result"
        }
      ],
      "source": [
        "#Finding unique elements\n",
        "df[\"Lung cancer\"].unique()"
      ]
    },
    {
      "cell_type": "code",
      "execution_count": null,
      "metadata": {
        "colab": {
          "base_uri": "https://localhost:8080/"
        },
        "id": "RDZUYfaq9jKQ",
        "outputId": "8fb17bb7-a328-4e4a-c69c-026e6567247e"
      },
      "outputs": [
        {
          "data": {
            "text/plain": [
              "array(['M', 'F'], dtype=object)"
            ]
          },
          "execution_count": 110,
          "metadata": {},
          "output_type": "execute_result"
        }
      ],
      "source": [
        "#Finding unique elements\n",
        "df[\"Gender\"].unique()"
      ]
    },
    {
      "cell_type": "markdown",
      "metadata": {
        "id": "Xxoc-hQe6IRM"
      },
      "source": [
        "Since the dataset contains two columns 'Gender' and 'Lung cancer' attributes which are of object data type. So, we convert them to numerical values. \n",
        "\n",
        "Conversion :\n",
        "- Gender - Female = 0, Male = 1\n",
        "- Lung cancer - NO = 0, YES = 1"
      ]
    },
    {
      "cell_type": "code",
      "execution_count": null,
      "metadata": {
        "id": "AJs7CusV4vdm"
      },
      "outputs": [],
      "source": [
        "#Mapping numeric values to non-numeric values\n",
        "df['Gender'] = df['Gender'].map({'F': 0, 'M': 1})\n",
        "df['Lung cancer'] = df['Lung cancer'].map({'No': 0, 'Yes': 1})"
      ]
    },
    {
      "cell_type": "code",
      "execution_count": null,
      "metadata": {
        "colab": {
          "base_uri": "https://localhost:8080/"
        },
        "id": "RfJGbXyC-WNZ",
        "outputId": "f6c8c8e1-707a-4de8-92d6-ff89c3b18662"
      },
      "outputs": [
        {
          "data": {
            "text/plain": [
              "Age                         int64\n",
              "Gender                      int64\n",
              "Air Pollution               int64\n",
              "Alcohol use                 int64\n",
              "Dust Allergy                int64\n",
              "OccuPational Hazards        int64\n",
              "Genetic Risk                int64\n",
              "chronic Lung Disease        int64\n",
              "Balanced Diet               int64\n",
              "Obesity                     int64\n",
              "Smoking                     int64\n",
              "Passive Smoker              int64\n",
              "Chest Pain                  int64\n",
              "Coughing Blood              int64\n",
              "Fatigue                     int64\n",
              "Weight Loss                 int64\n",
              "Shortness of Breath         int64\n",
              "Wheezing                    int64\n",
              "Swallowing Difficulty       int64\n",
              "Clubbing of Finger Nails    int64\n",
              "Frequent Cold               int64\n",
              "Dry Cough                   int64\n",
              "Snoring                     int64\n",
              "Lung cancer                 int64\n",
              "dtype: object"
            ]
          },
          "execution_count": 112,
          "metadata": {},
          "output_type": "execute_result"
        }
      ],
      "source": [
        "#Checking the datatype after conversion \n",
        "df.dtypes"
      ]
    },
    {
      "cell_type": "code",
      "execution_count": null,
      "metadata": {
        "colab": {
          "base_uri": "https://localhost:8080/",
          "height": 287
        },
        "id": "w2klYb8u-0NF",
        "outputId": "34d9d799-3fb6-4d14-863c-2cb30b13ee42"
      },
      "outputs": [
        {
          "data": {
            "text/html": [
              "<div>\n",
              "<style scoped>\n",
              "    .dataframe tbody tr th:only-of-type {\n",
              "        vertical-align: middle;\n",
              "    }\n",
              "\n",
              "    .dataframe tbody tr th {\n",
              "        vertical-align: top;\n",
              "    }\n",
              "\n",
              "    .dataframe thead th {\n",
              "        text-align: right;\n",
              "    }\n",
              "</style>\n",
              "<table border=\"1\" class=\"dataframe\">\n",
              "  <thead>\n",
              "    <tr style=\"text-align: right;\">\n",
              "      <th></th>\n",
              "      <th>Age</th>\n",
              "      <th>Gender</th>\n",
              "      <th>Air Pollution</th>\n",
              "      <th>Alcohol use</th>\n",
              "      <th>Dust Allergy</th>\n",
              "      <th>OccuPational Hazards</th>\n",
              "      <th>Genetic Risk</th>\n",
              "      <th>chronic Lung Disease</th>\n",
              "      <th>Balanced Diet</th>\n",
              "      <th>Obesity</th>\n",
              "      <th>...</th>\n",
              "      <th>Fatigue</th>\n",
              "      <th>Weight Loss</th>\n",
              "      <th>Shortness of Breath</th>\n",
              "      <th>Wheezing</th>\n",
              "      <th>Swallowing Difficulty</th>\n",
              "      <th>Clubbing of Finger Nails</th>\n",
              "      <th>Frequent Cold</th>\n",
              "      <th>Dry Cough</th>\n",
              "      <th>Snoring</th>\n",
              "      <th>Lung cancer</th>\n",
              "    </tr>\n",
              "  </thead>\n",
              "  <tbody>\n",
              "    <tr>\n",
              "      <th>0</th>\n",
              "      <td>33</td>\n",
              "      <td>1</td>\n",
              "      <td>2</td>\n",
              "      <td>4</td>\n",
              "      <td>5</td>\n",
              "      <td>4</td>\n",
              "      <td>3</td>\n",
              "      <td>2</td>\n",
              "      <td>2</td>\n",
              "      <td>4</td>\n",
              "      <td>...</td>\n",
              "      <td>3</td>\n",
              "      <td>4</td>\n",
              "      <td>2</td>\n",
              "      <td>2</td>\n",
              "      <td>3</td>\n",
              "      <td>1</td>\n",
              "      <td>2</td>\n",
              "      <td>3</td>\n",
              "      <td>4</td>\n",
              "      <td>0</td>\n",
              "    </tr>\n",
              "    <tr>\n",
              "      <th>1</th>\n",
              "      <td>35</td>\n",
              "      <td>1</td>\n",
              "      <td>4</td>\n",
              "      <td>5</td>\n",
              "      <td>6</td>\n",
              "      <td>5</td>\n",
              "      <td>5</td>\n",
              "      <td>4</td>\n",
              "      <td>6</td>\n",
              "      <td>7</td>\n",
              "      <td>...</td>\n",
              "      <td>8</td>\n",
              "      <td>7</td>\n",
              "      <td>9</td>\n",
              "      <td>2</td>\n",
              "      <td>1</td>\n",
              "      <td>4</td>\n",
              "      <td>6</td>\n",
              "      <td>7</td>\n",
              "      <td>2</td>\n",
              "      <td>1</td>\n",
              "    </tr>\n",
              "    <tr>\n",
              "      <th>2</th>\n",
              "      <td>37</td>\n",
              "      <td>1</td>\n",
              "      <td>7</td>\n",
              "      <td>7</td>\n",
              "      <td>7</td>\n",
              "      <td>7</td>\n",
              "      <td>6</td>\n",
              "      <td>7</td>\n",
              "      <td>7</td>\n",
              "      <td>7</td>\n",
              "      <td>...</td>\n",
              "      <td>4</td>\n",
              "      <td>2</td>\n",
              "      <td>3</td>\n",
              "      <td>1</td>\n",
              "      <td>4</td>\n",
              "      <td>5</td>\n",
              "      <td>6</td>\n",
              "      <td>7</td>\n",
              "      <td>5</td>\n",
              "      <td>1</td>\n",
              "    </tr>\n",
              "    <tr>\n",
              "      <th>3</th>\n",
              "      <td>46</td>\n",
              "      <td>1</td>\n",
              "      <td>6</td>\n",
              "      <td>8</td>\n",
              "      <td>7</td>\n",
              "      <td>7</td>\n",
              "      <td>7</td>\n",
              "      <td>6</td>\n",
              "      <td>7</td>\n",
              "      <td>7</td>\n",
              "      <td>...</td>\n",
              "      <td>3</td>\n",
              "      <td>2</td>\n",
              "      <td>4</td>\n",
              "      <td>1</td>\n",
              "      <td>4</td>\n",
              "      <td>2</td>\n",
              "      <td>4</td>\n",
              "      <td>2</td>\n",
              "      <td>3</td>\n",
              "      <td>1</td>\n",
              "    </tr>\n",
              "    <tr>\n",
              "      <th>5</th>\n",
              "      <td>52</td>\n",
              "      <td>0</td>\n",
              "      <td>2</td>\n",
              "      <td>4</td>\n",
              "      <td>5</td>\n",
              "      <td>4</td>\n",
              "      <td>3</td>\n",
              "      <td>2</td>\n",
              "      <td>2</td>\n",
              "      <td>4</td>\n",
              "      <td>...</td>\n",
              "      <td>3</td>\n",
              "      <td>4</td>\n",
              "      <td>2</td>\n",
              "      <td>2</td>\n",
              "      <td>3</td>\n",
              "      <td>1</td>\n",
              "      <td>2</td>\n",
              "      <td>3</td>\n",
              "      <td>4</td>\n",
              "      <td>0</td>\n",
              "    </tr>\n",
              "  </tbody>\n",
              "</table>\n",
              "<p>5 rows × 24 columns</p>\n",
              "</div>"
            ],
            "text/plain": [
              "   Age  Gender  Air Pollution  Alcohol use  Dust Allergy  \\\n",
              "0   33       1              2            4             5   \n",
              "1   35       1              4            5             6   \n",
              "2   37       1              7            7             7   \n",
              "3   46       1              6            8             7   \n",
              "5   52       0              2            4             5   \n",
              "\n",
              "   OccuPational Hazards  Genetic Risk  chronic Lung Disease  Balanced Diet  \\\n",
              "0                     4             3                     2              2   \n",
              "1                     5             5                     4              6   \n",
              "2                     7             6                     7              7   \n",
              "3                     7             7                     6              7   \n",
              "5                     4             3                     2              2   \n",
              "\n",
              "   Obesity  ...  Fatigue  Weight Loss  Shortness of Breath  Wheezing  \\\n",
              "0        4  ...        3            4                    2         2   \n",
              "1        7  ...        8            7                    9         2   \n",
              "2        7  ...        4            2                    3         1   \n",
              "3        7  ...        3            2                    4         1   \n",
              "5        4  ...        3            4                    2         2   \n",
              "\n",
              "   Swallowing Difficulty  Clubbing of Finger Nails  Frequent Cold  Dry Cough  \\\n",
              "0                      3                         1              2          3   \n",
              "1                      1                         4              6          7   \n",
              "2                      4                         5              6          7   \n",
              "3                      4                         2              4          2   \n",
              "5                      3                         1              2          3   \n",
              "\n",
              "   Snoring  Lung cancer  \n",
              "0        4            0  \n",
              "1        2            1  \n",
              "2        5            1  \n",
              "3        3            1  \n",
              "5        4            0  \n",
              "\n",
              "[5 rows x 24 columns]"
            ]
          },
          "execution_count": 113,
          "metadata": {},
          "output_type": "execute_result"
        }
      ],
      "source": [
        "df.head()"
      ]
    },
    {
      "cell_type": "code",
      "execution_count": null,
      "metadata": {
        "colab": {
          "base_uri": "https://localhost:8080/"
        },
        "id": "V8Yv50w3_Ine",
        "outputId": "b62dd3ec-5d2d-477f-ff6b-1078a0fca103"
      },
      "outputs": [
        {
          "name": "stdout",
          "output_type": "stream",
          "text": [
            "<class 'pandas.core.frame.DataFrame'>\n",
            "Index: 100 entries, 0 to 649\n",
            "Data columns (total 24 columns):\n",
            " #   Column                    Non-Null Count  Dtype\n",
            "---  ------                    --------------  -----\n",
            " 0   Age                       100 non-null    int64\n",
            " 1   Gender                    100 non-null    int64\n",
            " 2   Air Pollution             100 non-null    int64\n",
            " 3   Alcohol use               100 non-null    int64\n",
            " 4   Dust Allergy              100 non-null    int64\n",
            " 5   OccuPational Hazards      100 non-null    int64\n",
            " 6   Genetic Risk              100 non-null    int64\n",
            " 7   chronic Lung Disease      100 non-null    int64\n",
            " 8   Balanced Diet             100 non-null    int64\n",
            " 9   Obesity                   100 non-null    int64\n",
            " 10  Smoking                   100 non-null    int64\n",
            " 11  Passive Smoker            100 non-null    int64\n",
            " 12  Chest Pain                100 non-null    int64\n",
            " 13  Coughing Blood            100 non-null    int64\n",
            " 14  Fatigue                   100 non-null    int64\n",
            " 15  Weight Loss               100 non-null    int64\n",
            " 16  Shortness of Breath       100 non-null    int64\n",
            " 17  Wheezing                  100 non-null    int64\n",
            " 18  Swallowing Difficulty     100 non-null    int64\n",
            " 19  Clubbing of Finger Nails  100 non-null    int64\n",
            " 20  Frequent Cold             100 non-null    int64\n",
            " 21  Dry Cough                 100 non-null    int64\n",
            " 22  Snoring                   100 non-null    int64\n",
            " 23  Lung cancer               100 non-null    int64\n",
            "dtypes: int64(24)\n",
            "memory usage: 19.5 KB\n"
          ]
        }
      ],
      "source": [
        "df.info()"
      ]
    },
    {
      "cell_type": "markdown",
      "metadata": {
        "id": "0oZoLR65BFxB"
      },
      "source": [
        "---"
      ]
    },
    {
      "cell_type": "markdown",
      "metadata": {
        "id": "4JtdMbujWBd1"
      },
      "source": [
        "#3. EXPLORATORY ANALYSIS\n",
        "\n",
        "Exploratory data analysis (EDA) involves using statistics and visualizations to analyze and identify trends in data sets. It is used for seeing what the data can tell us before the modeling task.\n"
      ]
    },
    {
      "cell_type": "code",
      "execution_count": null,
      "metadata": {
        "colab": {
          "base_uri": "https://localhost:8080/",
          "height": 296
        },
        "id": "SvqbZapBEKyI",
        "outputId": "e13e24ca-169b-459f-8ace-149105a6c8e4"
      },
      "outputs": [
        {
          "data": {
            "image/png": "[encoded data removed]",
            "text/plain": [
              "<Figure size 640x480 with 1 Axes>"
            ]
          },
          "metadata": {},
          "output_type": "display_data"
        }
      ],
      "source": [
        "#Checking the distributaion of Target variable\n",
        "sns.countplot(x='Lung cancer', data=df,)\n",
        "plt.title('Target Distribution');"
      ]
    },
    {
      "cell_type": "code",
      "execution_count": null,
      "metadata": {
        "colab": {
          "base_uri": "https://localhost:8080/"
        },
        "id": "GecRan3kJ79o",
        "outputId": "15cbf8a1-5036-4646-eac8-dd676998bac9"
      },
      "outputs": [
        {
          "data": {
            "text/plain": [
              "Lung cancer\n",
              "1    53\n",
              "0    47\n",
              "Name: count, dtype: int64"
            ]
          },
          "execution_count": 116,
          "metadata": {},
          "output_type": "execute_result"
        }
      ],
      "source": [
        "#Count of the Target variable values\n",
        "df['Lung cancer'].value_counts()"
      ]
    },
    {
      "cell_type": "code",
      "execution_count": null,
      "metadata": {
        "id": "aeSjqQGFKLkk"
      },
      "outputs": [],
      "source": [
        "#Function for plotting\n",
        "def plot(col, df=df):\n",
        "    return df.groupby(col)['Lung cancer'].value_counts(normalize=True).unstack().plot(kind='bar', figsize=(8,5))"
      ]
    },
    {
      "cell_type": "code",
      "execution_count": null,
      "metadata": {
        "colab": {
          "base_uri": "https://localhost:8080/",
          "height": 347
        },
        "id": "QooQN6g_Kd7S",
        "outputId": "1d434dc7-cb70-4b96-ccdf-5127b082b929"
      },
      "outputs": [
        {
          "data": {
            "text/plain": [
              "<Axes: xlabel='Age'>"
            ]
          },
          "execution_count": 118,
          "metadata": {},
          "output_type": "execute_result"
        },
        {
          "data": {
            "image/png": "[encoded data removed]",
            "text/plain": [
              "<Figure size 800x500 with 1 Axes>"
            ]
          },
          "metadata": {},
          "output_type": "display_data"
        }
      ],
      "source": [
        "plot('Age')"
      ]
    },
    {
      "cell_type": "code",
      "execution_count": null,
      "metadata": {
        "colab": {
          "base_uri": "https://localhost:8080/",
          "height": 353
        },
        "id": "ya3VilU6Kg2I",
        "outputId": "c18b59a5-f0fe-4038-a563-319b8d6a17b8"
      },
      "outputs": [
        {
          "data": {
            "text/plain": [
              "<Axes: xlabel='Gender'>"
            ]
          },
          "execution_count": 119,
          "metadata": {},
          "output_type": "execute_result"
        },
        {
          "data": {
            "image/png": "[encoded data removed]",
            "text/plain": [
              "<Figure size 800x500 with 1 Axes>"
            ]
          },
          "metadata": {},
          "output_type": "display_data"
        }
      ],
      "source": [
        "plot('Gender')"
      ]
    },
    {
      "cell_type": "code",
      "execution_count": null,
      "metadata": {
        "colab": {
          "base_uri": "https://localhost:8080/",
          "height": 347
        },
        "id": "jqdtcTt5KjHL",
        "outputId": "9748ed66-c79e-429e-b23a-f0adaeeb74ec"
      },
      "outputs": [
        {
          "data": {
            "text/plain": [
              "<Axes: xlabel='Air Pollution'>"
            ]
          },
          "execution_count": 120,
          "metadata": {},
          "output_type": "execute_result"
        },
        {
          "data": {
            "image/png": "[encoded data removed]",
            "text/plain": [
              "<Figure size 800x500 with 1 Axes>"
            ]
          },
          "metadata": {},
          "output_type": "display_data"
        }
      ],
      "source": [
        "plot('Air Pollution')"
      ]
    },
    {
      "cell_type": "code",
      "execution_count": null,
      "metadata": {
        "colab": {
          "base_uri": "https://localhost:8080/",
          "height": 348
        },
        "id": "HvZ0bwixKnim",
        "outputId": "66378fd6-06c0-4dfc-cc9f-a0c2de6fabc3"
      },
      "outputs": [
        {
          "data": {
            "text/plain": [
              "<Axes: xlabel='Alcohol use'>"
            ]
          },
          "execution_count": 121,
          "metadata": {},
          "output_type": "execute_result"
        },
        {
          "data": {
            "image/png": "[encoded data removed]",
            "text/plain": [
              "<Figure size 800x500 with 1 Axes>"
            ]
          },
          "metadata": {},
          "output_type": "display_data"
        }
      ],
      "source": [
        "plot('Alcohol use')"
      ]
    },
    {
      "cell_type": "code",
      "execution_count": null,
      "metadata": {
        "colab": {
          "base_uri": "https://localhost:8080/",
          "height": 347
        },
        "id": "SkGdq174Kq6-",
        "outputId": "d2e3d676-b00b-4452-fc54-8893d94c3ddd"
      },
      "outputs": [
        {
          "data": {
            "text/plain": [
              "<Axes: xlabel='Dust Allergy'>"
            ]
          },
          "execution_count": 122,
          "metadata": {},
          "output_type": "execute_result"
        },
        {
          "data": {
            "image/png": "[encoded data removed]",
            "text/plain": [
              "<Figure size 800x500 with 1 Axes>"
            ]
          },
          "metadata": {},
          "output_type": "display_data"
        }
      ],
      "source": [
        "plot('Dust Allergy')"
      ]
    },
    {
      "cell_type": "code",
      "execution_count": null,
      "metadata": {
        "colab": {
          "base_uri": "https://localhost:8080/",
          "height": 348
        },
        "id": "9hh6KtUiKthW",
        "outputId": "e3245cf1-60ff-4549-8667-002d8e60526c"
      },
      "outputs": [
        {
          "data": {
            "text/plain": [
              "<Axes: xlabel='OccuPational Hazards'>"
            ]
          },
          "execution_count": 123,
          "metadata": {},
          "output_type": "execute_result"
        },
        {
          "data": {
            "image/png": "[encoded data removed]",
            "text/plain": [
              "<Figure size 800x500 with 1 Axes>"
            ]
          },
          "metadata": {},
          "output_type": "display_data"
        }
      ],
      "source": [
        "plot('OccuPational Hazards')"
      ]
    },
    {
      "cell_type": "code",
      "execution_count": null,
      "metadata": {
        "colab": {
          "base_uri": "https://localhost:8080/",
          "height": 347
        },
        "id": "sX-YBhwnKwii",
        "outputId": "f9fd886c-3307-496d-8383-2fbe9aee4fb3"
      },
      "outputs": [
        {
          "data": {
            "text/plain": [
              "<Axes: xlabel='Genetic Risk'>"
            ]
          },
          "execution_count": 124,
          "metadata": {},
          "output_type": "execute_result"
        },
        {
          "data": {
            "image/png": "[encoded data removed]",
            "text/plain": [
              "<Figure size 800x500 with 1 Axes>"
            ]
          },
          "metadata": {},
          "output_type": "display_data"
        }
      ],
      "source": [
        "plot('Genetic Risk')"
      ]
    },
    {
      "cell_type": "code",
      "execution_count": null,
      "metadata": {
        "colab": {
          "base_uri": "https://localhost:8080/",
          "height": 347
        },
        "id": "3cwRvH5iK0TU",
        "outputId": "8b9c94f2-b4af-45e2-bac1-7cb2fc090001"
      },
      "outputs": [
        {
          "data": {
            "text/plain": [
              "<Axes: xlabel='chronic Lung Disease'>"
            ]
          },
          "execution_count": 125,
          "metadata": {},
          "output_type": "execute_result"
        },
        {
          "data": {
            "image/png": "[encoded data removed]",
            "text/plain": [
              "<Figure size 800x500 with 1 Axes>"
            ]
          },
          "metadata": {},
          "output_type": "display_data"
        }
      ],
      "source": [
        "plot('chronic Lung Disease')"
      ]
    },
    {
      "cell_type": "code",
      "execution_count": null,
      "metadata": {
        "colab": {
          "base_uri": "https://localhost:8080/",
          "height": 347
        },
        "id": "KzLU57pvK34_",
        "outputId": "aaa8434c-2c49-4e26-c6bc-b52e79eb73e5"
      },
      "outputs": [
        {
          "data": {
            "text/plain": [
              "<Axes: xlabel='Balanced Diet'>"
            ]
          },
          "execution_count": 126,
          "metadata": {},
          "output_type": "execute_result"
        },
        {
          "data": {
            "image/png": "[encoded data removed]",
            "text/plain": [
              "<Figure size 800x500 with 1 Axes>"
            ]
          },
          "metadata": {},
          "output_type": "display_data"
        }
      ],
      "source": [
        "plot('Balanced Diet')"
      ]
    },
    {
      "cell_type": "code",
      "execution_count": null,
      "metadata": {
        "colab": {
          "base_uri": "https://localhost:8080/",
          "height": 347
        },
        "id": "vNt2haUYK8I3",
        "outputId": "f95dcb4f-aa73-401b-d91f-88903392c952"
      },
      "outputs": [
        {
          "data": {
            "text/plain": [
              "<Axes: xlabel='Obesity'>"
            ]
          },
          "execution_count": 127,
          "metadata": {},
          "output_type": "execute_result"
        },
        {
          "data": {
            "image/png": "[encoded data removed]",
            "text/plain": [
              "<Figure size 800x500 with 1 Axes>"
            ]
          },
          "metadata": {},
          "output_type": "display_data"
        }
      ],
      "source": [
        "plot('Obesity')"
      ]
    },
    {
      "cell_type": "code",
      "execution_count": null,
      "metadata": {
        "colab": {
          "base_uri": "https://localhost:8080/",
          "height": 351
        },
        "id": "_Y_9nullK-3D",
        "outputId": "74ac9a8a-0e92-4404-936f-39a770c203a4"
      },
      "outputs": [
        {
          "data": {
            "text/plain": [
              "<Axes: xlabel='Smoking'>"
            ]
          },
          "execution_count": 128,
          "metadata": {},
          "output_type": "execute_result"
        },
        {
          "data": {
            "image/png": "[encoded data removed]",
            "text/plain": [
              "<Figure size 800x500 with 1 Axes>"
            ]
          },
          "metadata": {},
          "output_type": "display_data"
        }
      ],
      "source": [
        "plot('Smoking')"
      ]
    },
    {
      "cell_type": "code",
      "execution_count": null,
      "metadata": {
        "colab": {
          "base_uri": "https://localhost:8080/",
          "height": 347
        },
        "id": "VESKXNDdLFMl",
        "outputId": "007bb65d-6bb5-4890-a73c-44f7adcdd8f3"
      },
      "outputs": [
        {
          "data": {
            "text/plain": [
              "<Axes: xlabel='Passive Smoker'>"
            ]
          },
          "execution_count": 129,
          "metadata": {},
          "output_type": "execute_result"
        },
        {
          "data": {
            "image/png": "[encoded data removed]",
            "text/plain": [
              "<Figure size 800x500 with 1 Axes>"
            ]
          },
          "metadata": {},
          "output_type": "display_data"
        }
      ],
      "source": [
        "plot('Passive Smoker')"
      ]
    },
    {
      "cell_type": "code",
      "execution_count": null,
      "metadata": {
        "colab": {
          "base_uri": "https://localhost:8080/",
          "height": 347
        },
        "id": "IVFDSY5nLH1p",
        "outputId": "925bb1b5-a807-45e8-d5a6-a72142e8900f"
      },
      "outputs": [
        {
          "data": {
            "text/plain": [
              "<Axes: xlabel='Chest Pain'>"
            ]
          },
          "execution_count": 130,
          "metadata": {},
          "output_type": "execute_result"
        },
        {
          "data": {
            "image/png": "[encoded data removed]",
            "text/plain": [
              "<Figure size 800x500 with 1 Axes>"
            ]
          },
          "metadata": {},
          "output_type": "display_data"
        }
      ],
      "source": [
        "plot('Chest Pain')"
      ]
    },
    {
      "cell_type": "code",
      "execution_count": null,
      "metadata": {
        "colab": {
          "base_uri": "https://localhost:8080/",
          "height": 349
        },
        "id": "DUnY3Bp6LKY5",
        "outputId": "b915b0d2-afa7-46dd-f98a-32b9f552600a"
      },
      "outputs": [
        {
          "data": {
            "text/plain": [
              "<Axes: xlabel='Coughing Blood'>"
            ]
          },
          "execution_count": 131,
          "metadata": {},
          "output_type": "execute_result"
        },
        {
          "data": {
            "image/png": "[encoded data removed]",
            "text/plain": [
              "<Figure size 800x500 with 1 Axes>"
            ]
          },
          "metadata": {},
          "output_type": "display_data"
        }
      ],
      "source": [
        "plot('Coughing Blood')"
      ]
    },
    {
      "cell_type": "code",
      "execution_count": null,
      "metadata": {
        "colab": {
          "base_uri": "https://localhost:8080/",
          "height": 347
        },
        "id": "kT5Y6kR9LO6O",
        "outputId": "a6233af4-7c15-46f4-b7e7-76bf68bec4aa"
      },
      "outputs": [
        {
          "data": {
            "text/plain": [
              "<Axes: xlabel='Fatigue'>"
            ]
          },
          "execution_count": 132,
          "metadata": {},
          "output_type": "execute_result"
        },
        {
          "data": {
            "image/png": "[encoded data removed]",
            "text/plain": [
              "<Figure size 800x500 with 1 Axes>"
            ]
          },
          "metadata": {},
          "output_type": "display_data"
        }
      ],
      "source": [
        "plot('Fatigue')"
      ]
    },
    {
      "cell_type": "code",
      "execution_count": null,
      "metadata": {},
      "outputs": [
        {
          "data": {
            "text/plain": [
              "<Axes: xlabel='Weight Loss'>"
            ]
          },
          "execution_count": 133,
          "metadata": {},
          "output_type": "execute_result"
        },
        {
          "data": {
            "image/png": "[encoded data removed]",
            "text/plain": [
              "<Figure size 800x500 with 1 Axes>"
            ]
          },
          "metadata": {},
          "output_type": "display_data"
        }
      ],
      "source": [
        "plot('Weight Loss')"
      ]
    },
    {
      "cell_type": "code",
      "execution_count": null,
      "metadata": {},
      "outputs": [
        {
          "data": {
            "text/plain": [
              "<Axes: xlabel='Shortness of Breath'>"
            ]
          },
          "execution_count": 134,
          "metadata": {},
          "output_type": "execute_result"
        },
        {
          "data": {
            "image/png": "[encoded data removed]",
            "text/plain": [
              "<Figure size 800x500 with 1 Axes>"
            ]
          },
          "metadata": {},
          "output_type": "display_data"
        }
      ],
      "source": [
        "plot('Shortness of Breath')"
      ]
    },
    {
      "cell_type": "code",
      "execution_count": null,
      "metadata": {},
      "outputs": [
        {
          "data": {
            "text/plain": [
              "<Axes: xlabel='Wheezing'>"
            ]
          },
          "execution_count": 135,
          "metadata": {},
          "output_type": "execute_result"
        },
        {
          "data": {
            "image/png": "[encoded data removed]",
            "text/plain": [
              "<Figure size 800x500 with 1 Axes>"
            ]
          },
          "metadata": {},
          "output_type": "display_data"
        }
      ],
      "source": [
        "plot('Wheezing')"
      ]
    },
    {
      "cell_type": "code",
      "execution_count": null,
      "metadata": {},
      "outputs": [
        {
          "data": {
            "text/plain": [
              "<Axes: xlabel='Swallowing Difficulty'>"
            ]
          },
          "execution_count": 136,
          "metadata": {},
          "output_type": "execute_result"
        },
        {
          "data": {
            "image/png": "[encoded data removed]",
            "text/plain": [
              "<Figure size 800x500 with 1 Axes>"
            ]
          },
          "metadata": {},
          "output_type": "display_data"
        }
      ],
      "source": [
        "plot('Swallowing Difficulty')"
      ]
    },
    {
      "cell_type": "code",
      "execution_count": null,
      "metadata": {},
      "outputs": [
        {
          "data": {
            "text/plain": [
              "<Axes: xlabel='Clubbing of Finger Nails'>"
            ]
          },
          "execution_count": 137,
          "metadata": {},
          "output_type": "execute_result"
        },
        {
          "data": {
            "image/png": "[encoded data removed]",
            "text/plain": [
              "<Figure size 800x500 with 1 Axes>"
            ]
          },
          "metadata": {},
          "output_type": "display_data"
        }
      ],
      "source": [
        "plot('Clubbing of Finger Nails')"
      ]
    },
    {
      "cell_type": "code",
      "execution_count": null,
      "metadata": {},
      "outputs": [
        {
          "data": {
            "text/plain": [
              "<Axes: xlabel='Frequent Cold'>"
            ]
          },
          "execution_count": 138,
          "metadata": {},
          "output_type": "execute_result"
        },
        {
          "data": {
            "image/png": "[encoded data removed]",
            "text/plain": [
              "<Figure size 800x500 with 1 Axes>"
            ]
          },
          "metadata": {},
          "output_type": "display_data"
        }
      ],
      "source": [
        "plot('Frequent Cold')"
      ]
    },
    {
      "cell_type": "code",
      "execution_count": null,
      "metadata": {},
      "outputs": [
        {
          "data": {
            "text/plain": [
              "<Axes: xlabel='Dry Cough'>"
            ]
          },
          "execution_count": 139,
          "metadata": {},
          "output_type": "execute_result"
        },
        {
          "data": {
            "image/png": "[encoded data removed]",
            "text/plain": [
              "<Figure size 800x500 with 1 Axes>"
            ]
          },
          "metadata": {},
          "output_type": "display_data"
        }
      ],
      "source": [
        "plot('Dry Cough')"
      ]
    },
    {
      "cell_type": "code",
      "execution_count": null,
      "metadata": {},
      "outputs": [
        {
          "data": {
            "text/plain": [
              "<Axes: xlabel='Snoring'>"
            ]
          },
          "execution_count": 140,
          "metadata": {},
          "output_type": "execute_result"
        },
        {
          "data": {
            "image/png": "[encoded data removed]",
            "text/plain": [
              "<Figure size 800x500 with 1 Axes>"
            ]
          },
          "metadata": {},
          "output_type": "display_data"
        }
      ],
      "source": [
        "plot('Snoring')"
      ]
    },
    {
      "cell_type": "markdown",
      "metadata": {
        "id": "-g2_-5LHNwP1"
      },
      "source": [
        "#4. Model Building "
      ]
    },
    {
      "cell_type": "code",
      "execution_count": null,
      "metadata": {
        "id": "ACKYvRYLS9Jw"
      },
      "outputs": [],
      "source": [
        "#Splitting independent and dependent variables\n",
        "X = df.drop('Lung cancer', axis = 1)\n",
        "y = df['Lung cancer']"
      ]
    },
    {
      "cell_type": "code",
      "execution_count": 170,
      "metadata": {
        "colab": {
          "base_uri": "https://localhost:8080/",
          "height": 468
        },
        "id": "vX1AuUZdTCQv",
        "outputId": "8a01ab2f-6f4d-4fe9-8ec3-542a780d5a9d"
      },
      "outputs": [],
      "source": [
        "#Standardizing the dataset\n",
        "scaler = StandardScaler()\n",
        "X = scaler.fit_transform(X)\n",
        "\n",
        "\n",
        "X_bias = np.hstack((X, np.ones((X.shape[0], 1))))\n",
        "\n",
        "X_train, X_val, y_train, y_val = train_test_split(\n",
        "    X_bias, y, test_size=0.2, random_state=42, stratify=y\n",
        ")"
      ]
    },
    {
      "cell_type": "markdown",
      "metadata": {
        "id": "iLyhenGiRHvy"
      },
      "source": [
        "#Sigmoid Function"
      ]
    },
    {
      "cell_type": "code",
      "execution_count": 171,
      "metadata": {
        "id": "pWN03EB2QBBA"
      },
      "outputs": [
        {
          "data": {
            "text/plain": [
              "<Axes: xlabel='Lung cancer', ylabel='Density'>"
            ]
          },
          "execution_count": 171,
          "metadata": {},
          "output_type": "execute_result"
        },
        {
          "data": {
            "image/png": "[encoded data removed]",
            "text/plain": [
              "<Figure size 640x480 with 1 Axes>"
            ]
          },
          "metadata": {},
          "output_type": "display_data"
        }
      ],
      "source": [
        "def sigmoid(z):\n",
        "    return 1 / (1 + np.exp(-z))\n",
        "\n",
        "sns.kdeplot(y_val,cumulative=True, bw=1.5)"
      ]
    },
    {
      "cell_type": "markdown",
      "metadata": {
        "id": "aOORLFejUDPr"
      },
      "source": [
        "#Log Loss Function"
      ]
    },
    {
      "cell_type": "code",
      "execution_count": 172,
      "metadata": {},
      "outputs": [],
      "source": [
        "def compute_loss(w, X, y):\n",
        "    z = X @ w\n",
        "    # applying the sigmoid function to get predicted probabilities\n",
        "    predictions = sigmoid(z)\n",
        "    # binary cross-entropy loss\n",
        "    loss = -np.mean(y * np.log(predictions) + (1 - y) * np.log(1 - predictions))\n",
        "    return loss"
      ]
    },
    {
      "cell_type": "markdown",
      "metadata": {},
      "source": [
        "#Gradient of the Loss Function"
      ]
    },
    {
      "cell_type": "code",
      "execution_count": 173,
      "metadata": {},
      "outputs": [],
      "source": [
        "def compute_gradient(w, X, y):\n",
        "    z = X @ w\n",
        "    predictions = sigmoid(z)\n",
        "    # error = difference between predicted and true labels\n",
        "    errors = predictions - y\n",
        "    # compute the gradient of the loss function\n",
        "    gradient = X.T @ errors / len(y)\n",
        "    return gradient"
      ]
    },
    {
      "cell_type": "markdown",
      "metadata": {},
      "source": [
        "#Validation Accuracy Function"
      ]
    },
    {
      "cell_type": "code",
      "execution_count": 174,
      "metadata": {},
      "outputs": [],
      "source": [
        "def validation_accuracy(w, X_val, y_val):\n",
        "    probabilities = sigmoid(X_val @ w)\n",
        "    predictions = (probabilities > 0.5).astype(int) # decission rule for binary classification\n",
        "    accuracy = np.mean(predictions == y_val)\n",
        "    return accuracy"
      ]
    },
    {
      "cell_type": "markdown",
      "metadata": {},
      "source": [
        "#Gradient Descent Optimization"
      ]
    },
    {
      "cell_type": "code",
      "execution_count": 175,
      "metadata": {},
      "outputs": [],
      "source": [
        "def gradient_descent_logistic(X_train, y_train, X_val, y_val,\n",
        "                              learning_rate=0.1, n_steps=1000, tolerance=1e-6):\n",
        "    w = np.zeros(X_train.shape[1])  # start with all weights equal to 0\n",
        "    loss_history = [compute_loss(w, X_train, y_train)]\n",
        "    val_accuracy_history = [validation_accuracy(w, X_val, y_val)]\n",
        "    weights_history = [w.copy()]  # storing weights for decision boundary plotting\n",
        "\n",
        "    for step in range(1, n_steps + 1):\n",
        "        grad = compute_gradient(w, X_train, y_train)\n",
        "        w -= learning_rate * grad  # update rule\n",
        "        loss = compute_loss(w, X_train, y_train)\n",
        "        loss_history.append(loss)\n",
        "\n",
        "        # compute validation accuracy\n",
        "        acc = validation_accuracy(w, X_val, y_val)\n",
        "        val_accuracy_history.append(acc)\n",
        "\n",
        "        # storing weights every 10 steps for plotting\n",
        "        if step % 10 == 0:\n",
        "            weights_history.append(w.copy())\n",
        "\n",
        "        # check convergence\n",
        "        if np.abs(loss_history[-2] - loss_history[-1]) < tolerance:\n",
        "            print(f'Converged at step {step}')\n",
        "            break\n",
        "\n",
        "        if step % 100 == 0:\n",
        "            print(f'Step {step}: Loss = {loss:.4f}, Validation Accuracy = {acc:.4f}')\n",
        "\n",
        "    return w, loss_history, val_accuracy_history, weights_history"
      ]
    },
    {
      "cell_type": "markdown",
      "metadata": {},
      "source": [
        "#5. Model Training and Interpretation "
      ]
    },
    {
      "cell_type": "code",
      "execution_count": null,
      "metadata": {},
      "outputs": [
        {
          "name": "stdout",
          "output_type": "stream",
          "text": [
            "Step 100: Loss = 0.0476, Validation Accuracy = 1.0000\n",
            "Step 200: Loss = 0.0292, Validation Accuracy = 1.0000\n",
            "Step 300: Loss = 0.0211, Validation Accuracy = 1.0000\n",
            "Step 400: Loss = 0.0164, Validation Accuracy = 1.0000\n",
            "Step 500: Loss = 0.0134, Validation Accuracy = 1.0000\n",
            "Step 600: Loss = 0.0113, Validation Accuracy = 1.0000\n",
            "Step 700: Loss = 0.0098, Validation Accuracy = 1.0000\n",
            "Step 800: Loss = 0.0086, Validation Accuracy = 1.0000\n",
            "Optimized weights: [ 0.1505903  -0.08611047  0.47945662  0.53589574  0.22338319  0.23375706\n",
            "  0.36943658  0.14210466  0.3638802   0.88014836  0.35708124  0.64137073\n",
            "  0.21607518  0.57143982  0.649471    0.33139362  0.27052677  0.09628548\n",
            "  0.10724173  0.37376491  0.77935712  0.48791129  0.58354313 -0.08713549]\n",
            "Decision rule: 0.15059030074792473 * Mean Perimeter + -0.08611047227119066 * Mean Smoothness + 0.47945661503629167 > 0 : Benign\n",
            "Decision rule: 0.15059030074792473 * Mean Perimeter + -0.08611047227119066 * Mean Smoothness + 0.47945661503629167 < 0 : Malignant\n"
          ]
        }
      ],
      "source": [
        "learning_rate = 0.05\n",
        "n_steps = 800\n",
        "\n",
        "w_opt, loss_history, val_accuracy_history, weights_history = gradient_descent_logistic(\n",
        "    X_train, y_train, X_val, y_val,\n",
        "    learning_rate=learning_rate,\n",
        "    n_steps=n_steps,\n",
        ")\n"
      ]
    },
    {
      "cell_type": "markdown",
      "metadata": {
        "id": "ATqdY6nOYsGc"
      },
      "source": [
        "#6. CONCLUSION\n",
        "\n",
        "As Lung Cancer is the most common cancer in the world and statistics have been proved that detection in early stages have greater chances of getting cured. Thus, we have successfully developed a machine learning model using Logistic Regression for early detection of Lung Cancer. Our model helps in early detection of Lung Cancer which will help save the lives of the patients because with early detection and diagnosis of Lung Cancer there are higher chances of survival for the patients.\n"
      ]
    }
  ],
  "metadata": {
    "colab": {
      "collapsed_sections": [],
      "provenance": []
    },
    "kernelspec": {
      "display_name": "Python 3",
      "language": "python",
      "name": "python3"
    },
    "language_info": {
      "codemirror_mode": {
        "name": "ipython",
        "version": 3
      },
      "file_extension": ".py",
      "mimetype": "text/x-python",
      "name": "python",
      "nbconvert_exporter": "python",
      "pygments_lexer": "ipython3",
      "version": "3.13.2"
    }
  },
  "nbformat": 4,
  "nbformat_minor": 4
}
